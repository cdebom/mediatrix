{
 "cells": [
  {
   "cell_type": "markdown",
   "metadata": {},
   "source": [
    "# Mediatrix Filamentation  example"
   ]
  },
  {
   "cell_type": "markdown",
   "metadata": {},
   "source": [
    "We start by importing the relevant libs"
   ]
  },
  {
   "cell_type": "code",
   "execution_count": 1,
   "metadata": {},
   "outputs": [
    {
     "name": "stderr",
     "output_type": "stream",
     "text": [
      "C:\\Users\\debom\\Anaconda2\\lib\\site-packages\\matplotlib\\cbook\\deprecation.py:106: MatplotlibDeprecationWarning: The mpl_toolkits.axes_grid module was deprecated in version 2.1. Use mpl_toolkits.axes_grid1 and mpl_toolkits.axisartist provies the same functionality instead.\n",
      "  warnings.warn(message, mplDeprecation, stacklevel=1)\n"
     ]
    }
   ],
   "source": [
    "import mediatrix \n",
    "\n",
    "import imagetools as imgt \n",
    "\n",
    "import numpy as np\n",
    "\n",
    "from math import atan,sqrt"
   ]
  },
  {
   "cell_type": "markdown",
   "metadata": {},
   "source": [
    "Do not worry by this warning, this is due the aplpy that probably will correct this in the near future."
   ]
  },
  {
   "cell_type": "markdown",
   "metadata": {},
   "source": [
    "Now we open the file we want to process, at this moment the code supports fits files (aplpy) and any opencv grayscale readable format. After reading the file we segment, that is, we identify the relevant sources in the figure."
   ]
  },
  {
   "cell_type": "code",
   "execution_count": 2,
   "metadata": {},
   "outputs": [
    {
     "name": "stderr",
     "output_type": "stream",
     "text": [
      "Warning: Unable to find 'CUNIT[1|2]' parameters in header instance for image coordinates unit.\n",
      "         Degrees ('deg') is being used as default unit value.\n",
      "WARNING:root:Requested output sizes are the same as input image. Returning image and header unchanged.\n"
     ]
    },
    {
     "name": "stdout",
     "output_type": "stream",
     "text": [
      "Unit: deg/px\n"
     ]
    }
   ],
   "source": [
    "segimg,objimg,original_img,hdr,file_name,_ids,area=imgt.segmentation('imgs/arcfull17064_0_3.39_r.fits',method='std',\\ \n",
    "                                                                     smooth=0.0,threspar=2)"
   ]
  },
  {
   "cell_type": "markdown",
   "metadata": {},
   "source": [
    "In the last line, we segment the image by choosing as part of the source any pixel which intensity is higher than the mode of the image histogram plus 2(threspar=2) times its standard deviation (method='std'). The warning are telling us that the example image does not have wcs information, so it is using the pixels as coordinates. Now we are going to select only the object labeled as object 1."
   ]
  },
  {
   "cell_type": "code",
   "execution_count": 3,
   "metadata": {},
   "outputs": [
    {
     "name": "stdout",
     "output_type": "stream",
     "text": [
      "Unit: deg/px\n"
     ]
    },
    {
     "name": "stderr",
     "output_type": "stream",
     "text": [
      "Warning: Unable to find 'CUNIT[1|2]' parameters in header instance for image coordinates unit.\n",
      "         Degrees ('deg') is being used as default unit value.\n"
     ]
    }
   ],
   "source": [
    "_otmp,_htmp = imgt.segstamp(segimg,1,objimg,hdr,increase=2,connected=True)"
   ]
  },
  {
   "cell_type": "markdown",
   "metadata": {},
   "source": [
    "Now we are ready to apply the mediatrix filamentation. We select the process to stop in the iteration level number 3 and disregard the extrema. After we present the results of the filamentation."
   ]
  },
  {
   "cell_type": "code",
   "execution_count": 4,
   "metadata": {},
   "outputs": [
    {
     "data": {
      "text/plain": [
       "{'L': 206.00820373280692,\n",
       " 'L/W': 13.71115224673976,\n",
       " 'center': (65.71199999999999+89.416j),\n",
       " 'circle_params': [(-784.0020246913601-498.847555555557j), (120+2j), (3+171j)],\n",
       " 'end': [(78.63117415973468+22.416437841033503j),\n",
       "  (65.51182559617942+44.56713296508994j),\n",
       "  (52.78937229460679+63.65648542787963j),\n",
       "  (37.56419882133732+83.37275206676131j),\n",
       "  (21.084499253110625+105.69034463720737j),\n",
       "  (7.160014835103841+124.10787102151687j)],\n",
       " 'origin': [(100.80029491194826+35.495760030543906j),\n",
       "  (87.70559719636603+57.67720620674399j),\n",
       "  (73.4312802877695+79.09504600341864j),\n",
       "  (57.66514059097198+99.46647088481733j),\n",
       "  (42.380885943206394+120.16513511468254j),\n",
       "  (26.86461255531039+140.6656273198337j)]}"
      ]
     },
     "execution_count": 4,
     "metadata": {},
     "output_type": "execute_result"
    }
   ],
   "source": [
    "med_fil=mediatrix.filamentation(_otmp, method=\"brightestinline\", alpha=0,near_distance=(sqrt(2)/2), \\\n",
    "                                max_level=3, use_extremes=False)\n",
    "med_fil"
   ]
  },
  {
   "cell_type": "markdown",
   "metadata": {},
   "source": [
    "For further info on this outputs see https://arxiv.org/abs/1212.1799. We can now derive more measurements: "
   ]
  },
  {
   "cell_type": "code",
   "execution_count": 5,
   "metadata": {},
   "outputs": [
    {
     "data": {
      "text/plain": [
       "{'L/R': 0.3813215523561885,\n",
       " 'MinM_norm': 0.01673752201827914,\n",
       " 'center_MinM': (-376.08344615299654-221.5256002871948j),\n",
       " 'center_comparison': 2.3943687274046783,\n",
       " 'curvature_comparison': 0.24199129213421355,\n",
       " 'intersection': 0,\n",
       " 'sigma_exc': 39.96290654934075,\n",
       " 'sigma_lenght': 0.14276558800469646}"
      ]
     },
     "execution_count": 5,
     "metadata": {},
     "output_type": "execute_result"
    }
   ],
   "source": [
    "mediatrix_S1=mediatrix.eval_med_stats(med_fil,_otmp)\n",
    "mediatrix_S1"
   ]
  },
  {
   "cell_type": "markdown",
   "metadata": {},
   "source": [
    "These last measurements are fully described in https://arxiv.org/abs/1607.04644 used as inputs to the arcfinder code.\n",
    "We may now plot the results:"
   ]
  },
  {
   "cell_type": "code",
   "execution_count": 6,
   "metadata": {},
   "outputs": [
    {
     "name": "stderr",
     "output_type": "stream",
     "text": [
      "WARNING: No WCS information found in header - using pixel coordinates [aplpy.header]\n",
      "WARNING:astropy:No WCS information found in header - using pixel coordinates\n",
      "INFO:astropy:Auto-setting vmin to -8.477e-01\n",
      "INFO:astropy:Auto-setting vmax to  9.409e+00\n"
     ]
    },
    {
     "name": "stdout",
     "output_type": "stream",
     "text": [
      "INFO: Auto-setting vmin to -8.477e-01 [aplpy.core]\n",
      "INFO: Auto-setting vmax to  9.409e+00 [aplpy.core]\n"
     ]
    },
    {
     "data": {
      "image/png": "[encoded data removed]",
      "text/plain": [
       "<matplotlib.figure.Figure at 0xc1bfe48>"
      ]
     },
     "metadata": {},
     "output_type": "display_data"
    }
   ],
   "source": [
    "plot_args={'max_level': 3} \n",
    "plot_args['alpha']= 0  \n",
    "plot1,center,centerM,size=mediatrix.plot_med_stats_apl(_otmp,1,keydots=True,circle=True, \\\n",
    "                                                       rc=False, save=False, use_extremes=False,args=plot_args)"
   ]
  },
  {
   "cell_type": "code",
   "execution_count": null,
   "metadata": {},
   "outputs": [],
   "source": []
  }
 ],
 "metadata": {
  "kernelspec": {
   "display_name": "Python 2",
   "language": "python",
   "name": "python2"
  },
  "language_info": {
   "codemirror_mode": {
    "name": "ipython",
    "version": 2
   },
   "file_extension": ".py",
   "mimetype": "text/x-python",
   "name": "python",
   "nbconvert_exporter": "python",
   "pygments_lexer": "ipython2",
   "version": "2.7.14"
  }
 },
 "nbformat": 4,
 "nbformat_minor": 2
}
